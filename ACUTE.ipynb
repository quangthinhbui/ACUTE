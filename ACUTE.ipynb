{
 "cells": [
  {
   "cell_type": "code",
   "execution_count": 1,
   "metadata": {},
   "outputs": [
    {
     "name": "stdout",
     "output_type": "stream",
     "text": [
      "Distance Matrix:\n",
      "[[ 0  4  5  6]\n",
      " [ 4  0  4  9]\n",
      " [ 5  4  0 10]\n",
      " [ 6  9 10  0]]\n",
      "\n",
      "Input radius: 1\n",
      "\n",
      "Output:\n",
      "[[0], [1], [2], [3]]\n"
     ]
    }
   ],
   "source": [
    "import numpy as np\n",
    "M = np.array([[0,4,5,6],[4,0,4,9],[5,4,0,10],[6,9,10,0]])\n",
    "print(\"Distance Matrix:\")\n",
    "print(M)\n",
    "\n",
    "def cluster(point,r):\n",
    "    c = []\n",
    "    pts = point.copy()\n",
    "    for i in pts:\n",
    "        if M[pts[0]][i] <= 2*r:\n",
    "            c.append(i)\n",
    "            point.remove(i)\n",
    "    t = c.copy()\n",
    "    while len(t) != 0:\n",
    "        for i in t:\n",
    "            t.remove(i)\n",
    "            for j in point:\n",
    "                if M[i][j] <= 2*r:\n",
    "                    c.append(j)\n",
    "                    t.append(j)\n",
    "                    point.remove(j)\n",
    "    return [c,point]\n",
    "\n",
    "def main(point,r):\n",
    "    out = []\n",
    "    pts = point.copy()\n",
    "    for i in range(len(point)):\n",
    "        m = cluster(point,r)\n",
    "        out.append(m[0])\n",
    "        if len(m[1]) == 0:\n",
    "            break\n",
    "    return out\n",
    "\n",
    "p = [i for i in range(len(M))]\n",
    "print(\"\")\n",
    "r = float(input(\"Input radius: \"))\n",
    "print(\"\")\n",
    "print(\"Output:\")\n",
    "print(main(p,r))"
   ]
  },
  {
   "cell_type": "code",
   "execution_count": 19,
   "metadata": {},
   "outputs": [
    {
     "name": "stdout",
     "output_type": "stream",
     "text": [
      "Distance Matrix:\n",
      "[[ 0  4  5  6  9]\n",
      " [ 4  0  4  9 15]\n",
      " [ 5  4  0 10 20]\n",
      " [ 6  9 10  0 13]\n",
      " [ 9 15 20 13  0]]\n",
      "\n",
      "\n",
      "Output:\n",
      "[[0]]\n",
      "[[0], [1]]\n",
      "[[0], [1], [2]]\n",
      "[[0], [1], [2], [3]]\n",
      "[[0], [1], [2], [3], [4]]\n",
      "[[0], [1], [2], [3], [4]]\n"
     ]
    }
   ],
   "source": [
    "import numpy as np\n",
    "N = np.array([[0,4,5,6,9],[4,0,4,9,15],[5,4,0,10,20],[6,9,10,0,13],[9,15,20,13,0]])\n",
    "print(\"Distance Matrix:\")\n",
    "print(N)\n",
    "\n",
    "def cluster(point,r):\n",
    "    c = []\n",
    "    pts = point.copy()\n",
    "    for i in pts:\n",
    "        if N[pts[0]][i] <= 2*r:\n",
    "            c.append(i)\n",
    "            point.remove(i)\n",
    "    t = c.copy()\n",
    "    while len(t) != 0:\n",
    "        for i in t:\n",
    "            t.remove(i)\n",
    "            for j in point:\n",
    "                if N[i][j] <= 2*r:\n",
    "                    c.append(j)\n",
    "                    t.append(j)\n",
    "                    point.remove(j)\n",
    "    return [c,point]\n",
    "\n",
    "def main(point,r):\n",
    "    out = []\n",
    "    pts = point.copy()\n",
    "    for i in range(len(point)):\n",
    "        m = cluster(point,r)\n",
    "        out.append(m[0])\n",
    "        print(out)\n",
    "        if len(m[1]) == 0:\n",
    "            break\n",
    "    return out\n",
    "\n",
    "h = [i for i in range(len(N))]\n",
    "print(\"\")\n",
    "k = float(input(\"Input radius: \"))\n",
    "print(\"\")\n",
    "print(\"Output:\")\n",
    "print(main(h,k))"
   ]
  }
 ],
 "metadata": {
  "kernelspec": {
   "display_name": "Python 3",
   "language": "python",
   "name": "python3"
  },
  "language_info": {
   "codemirror_mode": {
    "name": "ipython",
    "version": 3
   },
   "file_extension": ".py",
   "mimetype": "text/x-python",
   "name": "python",
   "nbconvert_exporter": "python",
   "pygments_lexer": "ipython3",
   "version": "3.8.5"
  }
 },
 "nbformat": 4,
 "nbformat_minor": 4
}
